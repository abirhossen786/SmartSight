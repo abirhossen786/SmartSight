{
 "cells": [
  {
   "cell_type": "code",
   "execution_count": 1,
   "id": "95665ed8",
   "metadata": {},
   "outputs": [],
   "source": [
    "import tensorflow as tf\n",
    "import numpy as np\n",
    "import pandas as pd\n",
    "from tensorflow.keras.layers import Flatten\n",
    "import serial\n",
    "import os\n",
    "import time\n",
    "from IPython import get_ipython\n",
    "import sys\n",
    "os.environ['TF_CPP_MIN_LOG_LEVEL'] = '2'"
   ]
  },
  {
   "cell_type": "code",
   "execution_count": 2,
   "id": "fe6ec752",
   "metadata": {},
   "outputs": [],
   "source": [
    "model = tf.keras.models.load_model('P1Q1_model', compile=False)"
   ]
  },
  {
   "cell_type": "code",
   "execution_count": 3,
   "id": "4b32b9f1",
   "metadata": {},
   "outputs": [],
   "source": [
    "# Partition Layer should be the last layer before the partition\n",
    "def partition(model, partitionLayer):\n",
    "    num_layers = len(model.layers) - 1\n",
    "    if partitionLayer >= num_layers:\n",
    "        return \"pick a lower partition layer, yours is or is greater than the last layer\"\n",
    "    clientLayers = []\n",
    "    serverLayers = []\n",
    "    for i in range (0,partitionLayer+1):\n",
    "        clientLayers.append(model.get_layer(index=i))\n",
    "        for i in range (partitionLayer+1,len(model.layers)):\n",
    "            serverLayers.append(model.get_layer(index=i))\n",
    "    #Creating Client and Server models\n",
    "    clientModel = tf.keras.Sequential(clientLayers)\n",
    "    clientModel.add(Flatten())\n",
    "    serverModel = tf.keras.Sequential(serverLayers)\n",
    "    #print(\"partitioning layer is =\",partitionLayer)\n",
    "    return clientModel, serverModel"
   ]
  },
  {
   "cell_type": "code",
   "execution_count": 4,
   "id": "140fa102",
   "metadata": {},
   "outputs": [],
   "source": [
    "partition_layer = 45\n",
    "firstPart, lastPart = partition(model, partition_layer)"
   ]
  },
  {
   "cell_type": "code",
   "execution_count": 5,
   "id": "789a84ff",
   "metadata": {},
   "outputs": [],
   "source": [
    "# wio = serial.Serial(port='COM5', baudrate=115200, timeout=1)\n",
    "# def read():\n",
    "#     data = wio.readline()\n",
    "#     #time.sleep(0.0001)\n",
    "#     return data"
   ]
  },
  {
   "cell_type": "code",
   "execution_count": 6,
   "id": "4c4440de",
   "metadata": {},
   "outputs": [],
   "source": [
    "# test_output = []\n",
    "# while True:\n",
    "#     data_from_wio = read()\n",
    "#     if data_from_wio:\n",
    "#         data_from_wio = float(data_from_wio)\n",
    "#         print(data_from_wio)\n",
    "#         test_output.append(data_from_wio)\n",
    "#         if len(test_output) == firstPart.layers[45].output.shape[1]:\n",
    "#             break\n",
    "# test_output = np.array(test_output)\n",
    "# print(test_output.shape)\n",
    "# print(\"Intermediate output received from the MCU!\")"
   ]
  },
  {
   "cell_type": "code",
   "execution_count": 5,
   "id": "0e128f72",
   "metadata": {},
   "outputs": [],
   "source": [
    "df = pd.read_csv('mcu_out.txt')\n",
    "test_output = np.array(df)\n",
    "#test_output = test_output.transpose()\n",
    "# print(test_output)\n",
    "#print(test_output.shape)"
   ]
  },
  {
   "cell_type": "code",
   "execution_count": 6,
   "id": "76a022b0",
   "metadata": {},
   "outputs": [],
   "source": [
    "new_shape = lastPart.layers[0].input_shape\n",
    "test_output = test_output.reshape(1, new_shape[1], new_shape[2], new_shape[3])"
   ]
  },
  {
   "cell_type": "code",
   "execution_count": 7,
   "id": "06c1dec8",
   "metadata": {},
   "outputs": [
    {
     "name": "stdout",
     "output_type": "stream",
     "text": [
      "Starting inference...\n"
     ]
    }
   ],
   "source": [
    "print(\"Starting inference...\")"
   ]
  },
  {
   "cell_type": "code",
   "execution_count": 10,
   "id": "58102601",
   "metadata": {},
   "outputs": [
    {
     "name": "stdout",
     "output_type": "stream",
     "text": [
      "24 ms ± 385 µs per loop (mean ± std. dev. of 20 runs, 5 loops each)\n"
     ]
    }
   ],
   "source": [
    "inference_time = %timeit -r20 -n5 -o prediction = lastPart.predict(test_output)\n",
    "# index_of_predict = np.argmax(prediction, axis=-1)\n",
    "# print(index_of_predict)"
   ]
  },
  {
   "cell_type": "code",
   "execution_count": 10,
   "id": "2cf28b4e",
   "metadata": {},
   "outputs": [],
   "source": [
    "f = open('P1Q1_latency_edge.txt', 'w')\n",
    "print(inference_time, file = f)\n",
    "f.close()\n",
    "print(\"Results saved!\")"
   ]
  },
  {
   "cell_type": "code",
   "execution_count": 11,
   "id": "78480606",
   "metadata": {},
   "outputs": [],
   "source": [
    "prediction = lastPart.predict(test_output)"
   ]
  },
  {
   "cell_type": "code",
   "execution_count": 12,
   "id": "bd25a4d0",
   "metadata": {},
   "outputs": [
    {
     "name": "stdout",
     "output_type": "stream",
     "text": [
      "[0]\n"
     ]
    }
   ],
   "source": [
    "index_of_predict = np.argmax(prediction, axis=-1)\n",
    "print(index_of_predict)"
   ]
  },
  {
   "cell_type": "code",
   "execution_count": null,
   "id": "0eec68e6",
   "metadata": {},
   "outputs": [],
   "source": []
  }
 ],
 "metadata": {
  "interpreter": {
   "hash": "5b34470adb5d6c5470326375d965d20a5fb730175976633777a87dcc0f9160d0"
  },
  "kernelspec": {
   "display_name": "Python 3",
   "language": "python",
   "name": "python3"
  },
  "language_info": {
   "codemirror_mode": {
    "name": "ipython",
    "version": 3
   },
   "file_extension": ".py",
   "mimetype": "text/x-python",
   "name": "python",
   "nbconvert_exporter": "python",
   "pygments_lexer": "ipython3",
   "version": "3.7.11"
  }
 },
 "nbformat": 4,
 "nbformat_minor": 5
}
